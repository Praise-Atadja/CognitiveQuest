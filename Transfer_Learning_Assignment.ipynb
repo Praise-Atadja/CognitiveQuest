{
  "nbformat": 4,
  "nbformat_minor": 0,
  "metadata": {
    "colab": {
      "provenance": [],
      "authorship_tag": "ABX9TyOOAlq+OvinQaHVmQqin4AP",
      "include_colab_link": true
    },
    "kernelspec": {
      "name": "python3",
      "display_name": "Python 3"
    },
    "language_info": {
      "name": "python"
    }
  },
  "cells": [
    {
      "cell_type": "markdown",
      "metadata": {
        "id": "view-in-github",
        "colab_type": "text"
      },
      "source": [
        "<a href=\"https://colab.research.google.com/github/Praise-Atadja/CognitiveQuest/blob/main/Transfer_Learning_Assignment.ipynb\" target=\"_parent\"><img src=\"https://colab.research.google.com/assets/colab-badge.svg\" alt=\"Open In Colab\"/></a>"
      ]
    },
    {
      "cell_type": "markdown",
      "source": [
        "# **PROJECT NAME: CognitiveQuest**\n",
        "---\n",
        "(***This project is to predict the possibility of autism***)"
      ],
      "metadata": {
        "id": "6ULN_4YKurPH"
      }
    },
    {
      "cell_type": "markdown",
      "source": [
        "# **OBJECTIVE**\n",
        "\n",
        "This project aims to use transfer learning techniques to predict Autism Spectrum Disorder (ASD) from image data. This involves fine-tuning pre-trained neural network models on a dataset related to ASD. The steps include preprocessing the images, selecting a suitable pre-trained model, adjusting its parameters, and evaluating its performance using accuracy, precision, recall, and F1-score metrics."
      ],
      "metadata": {
        "id": "3qHAn-zOvXLl"
      }
    },
    {
      "cell_type": "markdown",
      "source": [
        "## **The Dataset**\n",
        "\n",
        "\n",
        "**Short Description of the Data:**\n",
        "\n",
        "This dataset consists of images categorized into two classes: \"autistic\" and \"non_autistic\", aiming to facilitate research and analysis in understanding autism spectrum traits. The dataset is divided into three main folders: \"train\", \"valid\", and \"test\", each containing two subfolders representing the two classes.\n",
        "\n",
        "**Folder Structure:**\n",
        "\n",
        "train: Contains 1263 images in each of the \"autistic\" and \"non_autistic\" subfolders, totaling 2526 images.\n",
        "\n",
        "valid: Contains 100 images in each of the \"autistic\" and \"non_autistic\" subfolders, totaling 200 images.\n",
        "\n",
        "test: Contains 100 images in each of the \"autistic\" and \"non_autistic\" subfolders, totaling 200 images."
      ],
      "metadata": {
        "id": "utN9QnjMvuw1"
      }
    },
    {
      "cell_type": "code",
      "source": [
        "#Import Necessary Libraries\n",
        "import numpy as np\n",
        "from sklearn.metrics import accuracy_score, precision_score, recall_score, f1_score\n",
        "import tensorflow as tf\n",
        "from tensorflow.keras.layers import Dense, Flatten\n",
        "from tensorflow.keras.models import Model\n",
        "from tensorflow.keras.applications import VGG16, ResNet50, InceptionV3\n",
        "from tensorflow.keras.optimizers import Adam\n",
        "from tensorflow.keras.preprocessing.image import ImageDataGenerator\n",
        "from google.colab import drive\n",
        "drive.mount('/content/drive')"
      ],
      "metadata": {
        "colab": {
          "base_uri": "https://localhost:8080/"
        },
        "id": "as0oPIlPxRrj",
        "outputId": "7a12e970-def2-4265-8ed1-61cadc97836c"
      },
      "execution_count": 2,
      "outputs": [
        {
          "output_type": "stream",
          "name": "stdout",
          "text": [
            "Drive already mounted at /content/drive; to attempt to forcibly remount, call drive.mount(\"/content/drive\", force_remount=True).\n"
          ]
        }
      ]
    },
    {
      "cell_type": "markdown",
      "source": [
        "# Loading data"
      ],
      "metadata": {
        "id": "FGFWvBw0wooY"
      }
    },
    {
      "cell_type": "code",
      "source": [
        "# dataset directories\n",
        "train_dir = \"/content/drive/MyDrive/dataset/train\"\n",
        "valid_dir = \"/content/drive/MyDrive/dataset/valid\"\n",
        "test_dir = \"/content/drive/MyDrive/dataset/test\"\n",
        "\n",
        "def load_data(train_dir, valid_dir, test_dir, img_height=224, img_width=224, batch_size=32):\n",
        "    train_datagen = ImageDataGenerator(\n",
        "        rescale=1./255,\n",
        "        rotation_range=20,\n",
        "        width_shift_range=0.2,\n",
        "        height_shift_range=0.2,\n",
        "        shear_range=0.2,\n",
        "        zoom_range=0.2,\n",
        "        horizontal_flip=True,\n",
        "        fill_mode='nearest'\n",
        "    )\n",
        "\n",
        "    valid_datagen = ImageDataGenerator(rescale=1./255)\n",
        "    test_datagen = ImageDataGenerator(rescale=1./255)\n",
        "\n",
        "    train_generator = train_datagen.flow_from_directory(\n",
        "        train_dir,\n",
        "        target_size=(img_height, img_width),\n",
        "        batch_size=batch_size,\n",
        "        class_mode='categorical'\n",
        "    )\n",
        "\n",
        "    valid_generator = valid_datagen.flow_from_directory(\n",
        "        valid_dir,\n",
        "        target_size=(img_height, img_width),\n",
        "        batch_size=batch_size,\n",
        "        class_mode='categorical'\n",
        "    )\n",
        "\n",
        "    test_generator = test_datagen.flow_from_directory(\n",
        "        test_dir,\n",
        "        target_size=(img_height, img_width),\n",
        "        batch_size=batch_size,\n",
        "        class_mode='categorical'\n",
        "    )\n",
        "\n",
        "    return train_generator, valid_generator, test_generator\n",
        "\n",
        "train_generator, valid_generator, test_generator = load_data(train_dir, valid_dir, test_dir)"
      ],
      "metadata": {
        "colab": {
          "base_uri": "https://localhost:8080/"
        },
        "id": "4jBtq0rldqkR",
        "outputId": "53833506-94a3-4143-edb4-37203008ee55"
      },
      "execution_count": 3,
      "outputs": [
        {
          "output_type": "stream",
          "name": "stdout",
          "text": [
            "Found 2575 images belonging to 2 classes.\n",
            "Found 200 images belonging to 2 classes.\n",
            "Found 200 images belonging to 2 classes.\n"
          ]
        }
      ]
    },
    {
      "cell_type": "code",
      "source": [
        "#Base Model\n",
        "\n",
        "def build_model(base_model, num_classes=2):\n",
        "    x = Flatten()(base_model.output)\n",
        "    x = Dense(128, activation='relu')(x)\n",
        "    predictions = Dense(num_classes, activation='softmax')(x)\n",
        "    model = Model(inputs=base_model.input, outputs=predictions)\n",
        "    return model\n",
        "\n",
        "def train_model(model, train_generator, valid_generator, epochs=10):\n",
        "    model.compile(optimizer=Adam(), loss='categorical_crossentropy', metrics=['accuracy'])\n",
        "    history = model.fit(train_generator, validation_data=valid_generator, epochs=epochs)\n",
        "    return history\n",
        "\n",
        "def evaluate_model(model, test_generator):\n",
        "    y_true = test_generator.classes\n",
        "    y_pred = model.predict(test_generator)\n",
        "    y_pred_classes = np.argmax(y_pred, axis=1)\n",
        "\n",
        "    accuracy = accuracy_score(y_true, y_pred_classes)\n",
        "    loss = model.evaluate(test_generator)[0]\n",
        "    precision = precision_score(y_true, y_pred_classes)\n",
        "    recall = recall_score(y_true, y_pred_classes)\n",
        "    f1 = f1_score(y_true, y_pred_classes)\n",
        "\n",
        "    return accuracy, loss, precision, recall, f1"
      ],
      "metadata": {
        "id": "F9-jf2biBdI7"
      },
      "execution_count": 4,
      "outputs": []
    },
    {
      "cell_type": "markdown",
      "source": [
        "##Loading Pre-trained Model"
      ],
      "metadata": {
        "id": "6D3Vuf6UbHbG"
      }
    },
    {
      "cell_type": "code",
      "source": [
        "# Load pre-trained models\n",
        "vgg_base_model = VGG16(weights='imagenet', include_top=False, input_shape=(224, 224, 3))\n",
        "resnet_base_model = ResNet50(weights='imagenet', include_top=False, input_shape=(224, 224, 3))\n",
        "inception_base_model = InceptionV3(weights='imagenet', include_top=False, input_shape=(224, 224, 3))"
      ],
      "metadata": {
        "id": "Byph46g6XDJ_"
      },
      "execution_count": 5,
      "outputs": []
    },
    {
      "cell_type": "markdown",
      "source": [
        "# Fine-tuning model"
      ],
      "metadata": {
        "id": "XOyLwr_bgGEx"
      }
    },
    {
      "cell_type": "code",
      "source": [
        "# Unfreeze some top layers of the pre-trained models for fine-tuning\n",
        "for layer in vgg_base_model.layers[-4:]:\n",
        "    layer.trainable = True\n",
        "\n",
        "for layer in resnet_base_model.layers[-10:]:\n",
        "    layer.trainable = True\n",
        "\n",
        "for layer in inception_base_model.layers[-15:]:\n",
        "    layer.trainable = True\n"
      ],
      "metadata": {
        "id": "n5qwvO6yCfEJ"
      },
      "execution_count": 6,
      "outputs": []
    },
    {
      "cell_type": "code",
      "source": [
        "# Compile the models\n",
        "vgg_model = build_model(vgg_base_model)\n",
        "resnet_model = build_model(resnet_base_model)\n",
        "inception_model = build_model(inception_base_model)\n",
        "\n",
        "vgg_model.compile(optimizer=Adam(lr=0.0001), loss='categorical_crossentropy', metrics=['accuracy'])\n",
        "resnet_model.compile(optimizer=Adam(lr=0.0001), loss='categorical_crossentropy', metrics=['accuracy'])\n",
        "inception_model.compile(optimizer=Adam(lr=0.0001), loss='categorical_crossentropy', metrics=['accuracy'])"
      ],
      "metadata": {
        "colab": {
          "base_uri": "https://localhost:8080/"
        },
        "id": "N9bFf4wOCh7W",
        "outputId": "3f757ec7-8cd7-467f-9bdf-b7c76a95761e"
      },
      "execution_count": 7,
      "outputs": [
        {
          "output_type": "stream",
          "name": "stderr",
          "text": [
            "WARNING:absl:`lr` is deprecated in Keras optimizer, please use `learning_rate` or use the legacy optimizer, e.g.,tf.keras.optimizers.legacy.Adam.\n",
            "WARNING:absl:`lr` is deprecated in Keras optimizer, please use `learning_rate` or use the legacy optimizer, e.g.,tf.keras.optimizers.legacy.Adam.\n",
            "WARNING:absl:`lr` is deprecated in Keras optimizer, please use `learning_rate` or use the legacy optimizer, e.g.,tf.keras.optimizers.legacy.Adam.\n"
          ]
        }
      ]
    },
    {
      "cell_type": "code",
      "source": [
        "# Train the models\n",
        "vgg_finetune_history = train_model(vgg_model, train_generator, valid_generator, epochs=5)\n",
        "resnet_finetune_history = train_model(resnet_model, train_generator, valid_generator, epochs=5)\n",
        "inception_finetune_history = train_model(inception_model, train_generator, valid_generator, epochs=5)\n"
      ],
      "metadata": {
        "colab": {
          "base_uri": "https://localhost:8080/"
        },
        "id": "WLgtMt4yCvqA",
        "outputId": "da342b91-bef6-447b-f19e-3a091b524e50"
      },
      "execution_count": null,
      "outputs": [
        {
          "output_type": "stream",
          "name": "stdout",
          "text": [
            "Epoch 1/5\n",
            "81/81 [==============================] - 5857s 72s/step - loss: 2.7502 - accuracy: 0.5076 - val_loss: 0.6930 - val_accuracy: 0.5000\n",
            "Epoch 2/5\n",
            "72/81 [=========================>....] - ETA: 10:25 - loss: 0.6965 - accuracy: 0.5002"
          ]
        }
      ]
    },
    {
      "cell_type": "markdown",
      "source": [
        "# Evaluating the model"
      ],
      "metadata": {
        "id": "3USl7F_ggvD7"
      }
    },
    {
      "cell_type": "code",
      "source": [
        "# Evaluate the fine-tuned models\n",
        "vgg_finetune_eval_metrics = evaluate_model(vgg_model, test_generator)\n",
        "resnet_finetune_eval_metrics = evaluate_model(resnet_model, test_generator)\n",
        "inception_finetune_eval_metrics = evaluate_model(inception_model, test_generator)"
      ],
      "metadata": {
        "id": "v3R2OjQXg0lo"
      },
      "execution_count": null,
      "outputs": []
    },
    {
      "cell_type": "code",
      "source": [
        "# Print evaluation metrics for tuned models\n",
        "print(\"VGG16 Fine-tuned Model Evaluation:\", vgg_finetune_eval_metrics)\n",
        "print(\"ResNet50 Fine-tuned Model Evaluation:\", resnet_finetune_eval_metrics)\n",
        "print(\"InceptionV3 Fine-tuned Model Evaluation:\", inception_finetune_eval_metrics)\n"
      ],
      "metadata": {
        "id": "bjO-rVjWs4Qc"
      },
      "execution_count": null,
      "outputs": []
    }
  ]
}