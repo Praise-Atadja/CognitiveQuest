{
  "cells": [
    {
      "cell_type": "markdown",
      "metadata": {
        "colab_type": "text",
        "id": "view-in-github"
      },
      "source": [
        "<a href=\"https://colab.research.google.com/github/Praise-Atadja/CognitiveQuest/blob/main/Transfer_Learning_Assignment.ipynb\" target=\"_parent\"><img src=\"https://colab.research.google.com/assets/colab-badge.svg\" alt=\"Open In Colab\"/></a>"
      ]
    },
    {
      "cell_type": "code",
      "execution_count": null,
      "metadata": {
        "id": "fSkIsP9is845"
      },
      "outputs": [],
      "source": [
        "import tensorflow as tf\n",
        "from tensorflow.keras.layers import Dense, GlobalAveragePooling2D\n",
        "from tensorflow.keras.models import Model\n",
        "from tensorflow.keras.optimizers import Adam\n",
        "from tensorflow.keras.losses import SparseCategoricalCrossentropy\n",
        "from tensorflow.keras.metrics import SparseCategoricalAccuracy\n",
        "\n",
        "def load_pretrained_model(model_name, input_shape, num_classes):\n",
        "    \"\"\"Load a pre-trained model with specified input shape and number of classes.\"\"\"\n",
        "    if model_name == 'ResNet50':\n",
        "        base_model = tf.keras.applications.ResNet50(weights='imagenet', include_top=False, input_shape=input_shape)\n",
        "    elif model_name == 'VGG16':\n",
        "        base_model = tf.keras.applications.VGG16(weights='imagenet', include_top=False, input_shape=input_shape)\n",
        "    elif model_name == 'InceptionV3':\n",
        "        base_model = tf.keras.applications.InceptionV3(weights='imagenet', include_top=False, input_shape=input_shape)\n",
        "    else:\n",
        "        raise ValueError(\"Invalid model name. Please choose from 'ResNet50', 'VGG16', or 'InceptionV3'.\")\n",
        "    \n",
        "    # Freeze all layers in the base model\n",
        "    base_model.trainable = False\n",
        "    \n",
        "    # Add custom classification head\n",
        "    x = GlobalAveragePooling2D()(base_model.output)\n",
        "    outputs = Dense(num_classes, activation='softmax')(x)\n",
        "    \n",
        "    # Combine base model and custom head\n",
        "    model = Model(inputs=base_model.input, outputs=outputs)\n",
        "    \n",
        "    return model\n",
        "\n",
        "def fine_tune_model(model, train_data, val_data, num_epochs=10, learning_rate=0.001):\n",
        "    \"\"\"Fine-tune the pre-trained model on the given dataset.\"\"\"\n",
        "    # Compile the model\n",
        "    model.compile(optimizer=Adam(learning_rate=learning_rate),\n",
        "                  loss=SparseCategoricalCrossentropy(),\n",
        "                  metrics=[SparseCategoricalAccuracy()])\n",
        "    \n",
        "    # Train the model\n",
        "    history = model.fit(train_data,\n",
        "                        validation_data=val_data,\n",
        "                        epochs=num_epochs)\n",
        "    \n",
        "    return history\n",
        "\n",
        "def evaluate_model(model, test_data):\n",
        "    \"\"\"Evaluate the model on the test dataset.\"\"\"\n",
        "    loss, accuracy = model.evaluate(test_data)\n",
        "    return loss, accuracy\n",
        "\n",
        "def fine_tuning_analysis(model_name, train_data, val_data, test_data, input_shape, num_classes, num_epochs=10, learning_rate=0.001):\n",
        "    \"\"\"Perform fine-tuning analysis for a given pre-trained model.\"\"\"\n",
        "    # Load pre-trained model\n",
        "    model = load_pretrained_model(model_name, input_shape, num_classes)\n",
        "    \n",
        "    # Fine-tune the model\n",
        "    history = fine_tune_model(model, train_data, val_data, num_epochs, learning_rate)\n",
        "    \n",
        "    # Evaluate the model on test data\n",
        "    test_loss, test_accuracy = evaluate_model(model, test_data)\n",
        "    \n",
        "    return history, test_loss, test_accuracy\n"
      ]
    }
  ],
  "metadata": {
    "colab": {
      "authorship_tag": "ABX9TyNKRUmDDzkilECZgoT1aMc6",
      "include_colab_link": true,
      "provenance": []
    },
    "kernelspec": {
      "display_name": "Python 3",
      "name": "python3"
    },
    "language_info": {
      "name": "python"
    }
  },
  "nbformat": 4,
  "nbformat_minor": 0
}
